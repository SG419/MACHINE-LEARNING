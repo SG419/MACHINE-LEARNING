{
 "cells": [
  {
   "cell_type": "code",
   "execution_count": 8,
   "metadata": {},
   "outputs": [],
   "source": [
    "import numpy as np"
   ]
  },
  {
   "cell_type": "code",
   "execution_count": 9,
   "metadata": {},
   "outputs": [],
   "source": [
    "data=np.loadtxt(\"data.csv\",delimiter=\",\")"
   ]
  },
  {
   "cell_type": "code",
   "execution_count": 10,
   "metadata": {},
   "outputs": [],
   "source": [
    "x=data[:,0]\n",
    "y=data[:,1]"
   ]
  },
  {
   "cell_type": "code",
   "execution_count": 8,
   "metadata": {},
   "outputs": [
    {
     "data": {
      "text/plain": [
       "(100,)"
      ]
     },
     "execution_count": 8,
     "metadata": {},
     "output_type": "execute_result"
    }
   ],
   "source": [
    "x.shape"
   ]
  },
  {
   "cell_type": "code",
   "execution_count": 11,
   "metadata": {},
   "outputs": [
    {
     "data": {
      "text/plain": [
       "(70,)"
      ]
     },
     "execution_count": 11,
     "metadata": {},
     "output_type": "execute_result"
    }
   ],
   "source": [
    "from sklearn import model_selection\n",
    "X_train,X_test,Y_train,Y_test=model_selection.train_test_split(x,y,test_size=0.3)\n",
    "X_train.shape\n"
   ]
  },
  {
   "cell_type": "code",
   "execution_count": 12,
   "metadata": {},
   "outputs": [],
   "source": [
    "def fit(x_train,y_train):\n",
    "    num=(x_train*y_train).mean()-x_train.mean()*y_train.mean()\n",
    "    den=(x_train**2).mean()-x_train.mean()**2\n",
    "    m=num/den\n",
    "    c=y_train.mean()-m*x_train.mean()\n",
    "    return m , c"
   ]
  },
  {
   "cell_type": "code",
   "execution_count": 13,
   "metadata": {},
   "outputs": [],
   "source": [
    "def predict(x,m,c):\n",
    "    return m*x+c\n",
    "def score(y_truth,y_pred):\n",
    "    u=((y_truth-y_pred)**2).sum()\n",
    "    v=((y_truth-y_truth.mean())**2).sum()\n",
    "    return 1-u/v\n",
    "def cost(x,y,m,c):\n",
    "    return ((y -m*x-c)**2).mean()\n",
    "    "
   ]
  },
  {
   "cell_type": "code",
   "execution_count": 14,
   "metadata": {},
   "outputs": [
    {
     "name": "stdout",
     "output_type": "stream",
     "text": [
      "TEST SCORE IS : 0.5522756201761903\n",
      "TRAIN SCORE IS : 0.6080879512064117\n",
      "M,C IS : 1.3242173314652264 7.140796547070835\n",
      "COST ON TRAINING DATA IS : 107.9744903466869\n"
     ]
    }
   ],
   "source": [
    "m,c=fit(X_train,Y_train)\n",
    "#TEST DATA\n",
    "y_test_pred=predict(X_test,m,c)\n",
    "print(\"TEST SCORE IS :\",score(Y_test,y_test_pred))\n",
    "#TRAIN DATA\n",
    "y_train_pred=predict(X_train,m,c)\n",
    "print(\"TRAIN SCORE IS :\",score(Y_train,y_train_pred))\n",
    "print(\"M,C IS :\",m,c)\n",
    "print(\"COST ON TRAINING DATA IS :\",cost(X_train,Y_train,m,c))"
   ]
  },
  {
   "cell_type": "markdown",
   "metadata": {},
   "source": []
  }
 ],
 "metadata": {
  "kernelspec": {
   "display_name": "Python 3",
   "language": "python",
   "name": "python3"
  },
  "language_info": {
   "codemirror_mode": {
    "name": "ipython",
    "version": 3
   },
   "file_extension": ".py",
   "mimetype": "text/x-python",
   "name": "python",
   "nbconvert_exporter": "python",
   "pygments_lexer": "ipython3",
   "version": "3.6.5"
  }
 },
 "nbformat": 4,
 "nbformat_minor": 2
}
